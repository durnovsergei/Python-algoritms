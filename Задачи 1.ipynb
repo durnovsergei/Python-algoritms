{
 "cells": [
  {
   "cell_type": "code",
   "execution_count": 20,
   "id": "559a28ea-fe23-4a0b-a759-be31a29b5997",
   "metadata": {},
   "outputs": [
    {
     "name": "stdin",
     "output_type": "stream",
     "text": [
      " 1234\n",
      " 14\n"
     ]
    },
    {
     "name": "stdout",
     "output_type": "stream",
     "text": [
      "Такая пара не найдена\n"
     ]
    }
   ],
   "source": [
    "#two sum \n",
    "\n",
    "arr = list(map(int, input().split()))\n",
    "target = int(input())\n",
    "\n",
    "left = 0\n",
    "right = len(arr) - 1\n",
    "\n",
    "while left < right:\n",
    "    current_sum = arr[left] + arr[right]\n",
    "    if current_sum == target:\n",
    "        print(f\"Индексы элементов: {left}, {right}\")\n",
    "        break\n",
    "    elif current_sum < target:\n",
    "        left += 1\n",
    "    else:\n",
    "        right -= 1\n",
    "else:\n",
    "    print(\"Такая пара не найдена\")"
   ]
  },
  {
   "cell_type": "code",
   "execution_count": 7,
   "id": "9a29d051-e756-4b13-81c8-5633bbc398df",
   "metadata": {},
   "outputs": [
    {
     "name": "stdin",
     "output_type": "stream",
     "text": [
      "  1 2 3 4 5 6\n"
     ]
    },
    {
     "name": "stdout",
     "output_type": "stream",
     "text": [
      "6 5 4 3 2 1\n"
     ]
    }
   ],
   "source": [
    "#задача развернуть массив \n",
    "\n",
    "arr = list(map(int, input().split()))\n",
    "\n",
    "left = 0\n",
    "right = len(arr) - 1\n",
    "\n",
    "while left < right:\n",
    "    arr[left], arr[right] = arr[right], arr[left]\n",
    "    left += 1\n",
    "    right -= 1\n",
    "print(*arr, sep=' ')"
   ]
  },
  {
   "cell_type": "code",
   "execution_count": 9,
   "id": "604d4367-aa3b-4f15-9f63-4f4ae3fa91fe",
   "metadata": {},
   "outputs": [
    {
     "name": "stdin",
     "output_type": "stream",
     "text": [
      " 1 2 3 4 5 6 7\n",
      " 3\n"
     ]
    },
    {
     "name": "stdout",
     "output_type": "stream",
     "text": [
      "5 6 7 1 2 3 4\n"
     ]
    }
   ],
   "source": [
    "#задача развернуть часть массива  \n",
    "\n",
    "arr = list(map(int, input().split()))\n",
    "k = int(input())\n",
    "n = len(arr)\n",
    "k = k % n\n",
    "def reverse_section(arr, start, end):\n",
    "    while start < end:\n",
    "        arr[start], arr[end] = arr[end], arr[start]\n",
    "        start += 1\n",
    "        end -= 1\n",
    "reverse_section(arr, 0, n - 1)\n",
    "reverse_section(arr, 0, k - 1)\n",
    "reverse_section(arr, k, n - 1)\n",
    "print(*arr, sep=' ')"
   ]
  },
  {
   "cell_type": "code",
   "execution_count": 14,
   "id": "c37f8963-fe4c-4710-abd7-a2d36a4012b3",
   "metadata": {},
   "outputs": [
    {
     "name": "stdin",
     "output_type": "stream",
     "text": [
      " 1 2 3 4 5\n",
      " 31435\n"
     ]
    },
    {
     "name": "stdout",
     "output_type": "stream",
     "text": [
      "1 2 3 4 5 31435\n"
     ]
    }
   ],
   "source": [
    "#задача слияние двух отсортированных массивов\n",
    "\n",
    "arr1 = list(map(int, input().split()))\n",
    "arr2 = list(map(int, input().split()))\n",
    "\n",
    "i = 0  \n",
    "j = 0  \n",
    "result = []\n",
    "\n",
    "while i < len(arr1) and j < len(arr2):\n",
    "    if arr1[i] <= arr2[j]:\n",
    "        result.append(arr1[i])\n",
    "        i += 1\n",
    "    else:\n",
    "        result.append(arr2[j])\n",
    "        j += 1\n",
    "\n",
    "while i < len(arr1):\n",
    "    result.append(arr1[i])\n",
    "    i += 1\n",
    "while j < len(arr2):\n",
    "    result.append(arr2[j])\n",
    "    j += 1\n",
    "print(*result, sep=' ')"
   ]
  },
  {
   "cell_type": "code",
   "execution_count": 26,
   "id": "0c7589eb-cc23-44ea-9b24-65c15d2b3e4b",
   "metadata": {},
   "outputs": [
    {
     "name": "stdin",
     "output_type": "stream",
     "text": [
      " 2 14\n"
     ]
    },
    {
     "name": "stdout",
     "output_type": "stream",
     "text": [
      "1 1\n"
     ]
    }
   ],
   "source": [
    "#задача сортировки массива из 0 и 1 вариант 1 \n",
    "\n",
    "arr = list(map(int, input().split()))\n",
    "count_zeros = arr.count(0)\n",
    "\n",
    "for i in range(len(arr)):\n",
    "    arr[i] = 0 if i < count_zeros else 1\n",
    "\n",
    "print(*arr, sep=' ')"
   ]
  },
  {
   "cell_type": "code",
   "execution_count": 28,
   "id": "7ffa4f02-8c9b-44ee-9170-e8718cbcc902",
   "metadata": {},
   "outputs": [
    {
     "name": "stdin",
     "output_type": "stream",
     "text": [
      " 214 124\n"
     ]
    },
    {
     "name": "stdout",
     "output_type": "stream",
     "text": [
      "124 214\n"
     ]
    }
   ],
   "source": [
    "#задача сортировки массива из 0 и 1 вариант 2 (через 2 указателя)\n",
    "\n",
    "arr = list(map(int, input().split()))\n",
    "\n",
    "left = 0  \n",
    "right = len(arr) - 1  \n",
    "\n",
    "while left < right:\n",
    "    while left < right and arr[left] == 0:\n",
    "        left += 1\n",
    "    while left < right and arr[right] == 1:\n",
    "        right -= 1\n",
    "    if left < right:\n",
    "        arr[left], arr[right] = arr[right], arr[left]\n",
    "        left += 1\n",
    "        right -= 1\n",
    "print(*arr, sep=' ')"
   ]
  },
  {
   "cell_type": "code",
   "execution_count": 21,
   "id": "97f7d3a0-7f84-4a96-ac03-af64df95a060",
   "metadata": {},
   "outputs": [
    {
     "name": "stdin",
     "output_type": "stream",
     "text": [
      " 1 0 0 2 2 1 1 0 0 2 2 \n"
     ]
    },
    {
     "name": "stdout",
     "output_type": "stream",
     "text": [
      "0 0 0 0 1 1 1 2 2 2 2\n"
     ]
    }
   ],
   "source": [
    "#задача флага Нидерландов через 3 указателя\n",
    "\n",
    "arr = list(map(int, input().split()))\n",
    "\n",
    "low = 0  \n",
    "mid = 0  \n",
    "high = len(arr) - 1\n",
    "\n",
    "while mid <= high:\n",
    "    if arr[mid] == 0:\n",
    "        arr[low], arr[mid] = arr[mid], arr[low]\n",
    "        low += 1\n",
    "        mid += 1\n",
    "    elif arr[mid] == 1:\n",
    "        mid += 1\n",
    "    else: \n",
    "        arr[mid], arr[high] = arr[high], arr[mid]\n",
    "        high -= 1\n",
    "print(*arr, sep=' ')"
   ]
  },
  {
   "cell_type": "code",
   "execution_count": 25,
   "id": "34df5c19-b26d-490b-8060-0fc718353cfc",
   "metadata": {},
   "outputs": [
    {
     "name": "stdin",
     "output_type": "stream",
     "text": [
      " 1 0 0 0 0\n"
     ]
    },
    {
     "name": "stdout",
     "output_type": "stream",
     "text": [
      "0 0 0 0 1\n"
     ]
    }
   ],
   "source": [
    "#задача передвинуть четные числа вперед\n",
    "\n",
    "arr = list(map(int, input().split()))\n",
    "\n",
    "write_index = 0\n",
    "\n",
    "for read_index in range(len(arr)):\n",
    "    if arr[read_index] % 2 == 0: \n",
    "        arr[read_index], arr[write_index] = arr[write_index], arr[read_index]\n",
    "        write_index += 1\n",
    "print(*arr, sep=' ')"
   ]
  },
  {
   "cell_type": "code",
   "execution_count": 30,
   "id": "798b19ed-61e5-4b70-92e3-dc16557f1298",
   "metadata": {},
   "outputs": [
    {
     "name": "stdin",
     "output_type": "stream",
     "text": [
      " 0 0 0 1 2 0 3 4 0 5 0 0 0 0 0 6 0\n"
     ]
    },
    {
     "name": "stdout",
     "output_type": "stream",
     "text": [
      "1 2 3 4 5 6 0 0 0 0 0 0 0 0 0 0 0\n"
     ]
    }
   ],
   "source": [
    "#задача передвинуть нули в конец (с сохренением порядка)\n",
    "\n",
    "arr = list(map(int, input().split()))\n",
    "\n",
    "write_index = 0\n",
    "\n",
    "for read_index in range(len(arr)):\n",
    "    if arr[read_index] != 0:\n",
    "        arr[write_index] = arr[read_index]\n",
    "        write_index += 1\n",
    "\n",
    "for i in range(write_index, len(arr)):\n",
    "    arr[i] = 0\n",
    "    \n",
    "print(*arr, sep=' ')"
   ]
  }
 ],
 "metadata": {
  "kernelspec": {
   "display_name": "Python [conda env:base] *",
   "language": "python",
   "name": "conda-base-py"
  },
  "language_info": {
   "codemirror_mode": {
    "name": "ipython",
    "version": 3
   },
   "file_extension": ".py",
   "mimetype": "text/x-python",
   "name": "python",
   "nbconvert_exporter": "python",
   "pygments_lexer": "ipython3",
   "version": "3.13.5"
  }
 },
 "nbformat": 4,
 "nbformat_minor": 5
}
