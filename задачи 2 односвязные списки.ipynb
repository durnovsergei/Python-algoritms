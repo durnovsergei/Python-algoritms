{
 "cells": [
  {
   "cell_type": "code",
   "execution_count": 11,
   "id": "2eb0358a-50cf-4802-a718-4b34b0ad3dc0",
   "metadata": {},
   "outputs": [
    {
     "name": "stdout",
     "output_type": "stream",
     "text": [
      "True\n",
      "False\n"
     ]
    }
   ],
   "source": [
    "#Проверка цикличности односвязного списка\n",
    "\n",
    "class ListNode:\n",
    "    def __init__(self, val=0, next=None):\n",
    "        self.val = val\n",
    "        self.next = next\n",
    "\n",
    "def has_cycle(head: ListNode) -> bool:\n",
    "    if not head or not head.next:\n",
    "        return False\n",
    "    slow = head\n",
    "    fast = head\n",
    "    while fast and fast.next:\n",
    "        slow = slow.next\n",
    "        fast = fast.next.next\n",
    "        if slow == fast:\n",
    "            return True\n",
    "            \n",
    "    return False\n",
    "\n",
    "\n",
    "#инициализация + проверка циклического списка \n",
    "node1 = ListNode(1)\n",
    "node2 = ListNode(2)\n",
    "node3 = ListNode(3)\n",
    "node1.next = node2\n",
    "node2.next = node3\n",
    "node3.next = node2  \n",
    "\n",
    "print(has_cycle(node1))  \n",
    "\n",
    "#инициализация + проверка нециклического списка \n",
    "node4 = ListNode(4)\n",
    "node5 = ListNode(5)\n",
    "node4.next = node5\n",
    "\n",
    "print(has_cycle(node4))"
   ]
  },
  {
   "cell_type": "code",
   "execution_count": 12,
   "id": "15c5f093-c20b-40c7-9e18-685bf121ae0d",
   "metadata": {},
   "outputs": [
    {
     "name": "stdout",
     "output_type": "stream",
     "text": [
      "5 -> 4 -> 3 -> 2 -> 1"
     ]
    }
   ],
   "source": [
    "#разворот односвязного списка\n",
    "\n",
    "class ListNode:\n",
    "    def __init__(self, val=0, next=None):\n",
    "        self.val = val\n",
    "        self.next = next\n",
    "\n",
    "def reverse_list(head: ListNode) -> ListNode:\n",
    "    prev = None\n",
    "    current = head\n",
    "    while current:\n",
    "        next_temp = current.next  \n",
    "        current.next = prev      \n",
    "        prev = current      \n",
    "        current = next_temp \n",
    "    return prev  \n",
    "\n",
    "\n",
    "#проверка \n",
    "head = ListNode(1)\n",
    "head.next = ListNode(2)\n",
    "head.next.next = ListNode(3)\n",
    "head.next.next.next = ListNode(4)\n",
    "head.next.next.next.next = ListNode(5)\n",
    "\n",
    "reversed_head = reverse_list(head)\n",
    "\n",
    "current = reversed_head\n",
    "while current:\n",
    "    print(current.val, end=\" -> \" if current.next else \"\")\n",
    "    current = current.next\n"
   ]
  },
  {
   "cell_type": "code",
   "execution_count": 13,
   "id": "53dcb73d-35a0-4c09-b0c7-d1ac8618e725",
   "metadata": {},
   "outputs": [
    {
     "name": "stdout",
     "output_type": "stream",
     "text": [
      "3\n",
      "1\n"
     ]
    }
   ],
   "source": [
    "#нахождение середины списка решение через 2 указателя возвращаем медленный\n",
    "\n",
    "class ListNode:\n",
    "    def __init__(self, val=0, next=None):\n",
    "        self.val = val\n",
    "        self.next = next\n",
    "\n",
    "def find_middle(head: ListNode) -> ListNode:\n",
    "    if not head:\n",
    "        return None\n",
    "    slow = head\n",
    "    fast = head\n",
    "    while fast and fast.next:\n",
    "        slow = slow.next\n",
    "        fast = fast.next.next\n",
    "    return slow\n",
    "\n",
    "#пример\n",
    "head1 = ListNode(1)\n",
    "head1.next = ListNode(2)\n",
    "head1.next.next = ListNode(3)\n",
    "head1.next.next.next = ListNode(4)\n",
    "head1.next.next.next.next = ListNode(5)\n",
    "\n",
    "middle1 = find_middle(head1)\n",
    "print(middle1.val)  \n",
    "\n",
    "#пример 2\n",
    "\n",
    "head2 = ListNode(1)\n",
    "middle2 = find_middle(head2)\n",
    "print(middle2.val)  "
   ]
  },
  {
   "cell_type": "code",
   "execution_count": 14,
   "id": "6267566e-2275-447e-bdcb-aa235c8ee181",
   "metadata": {},
   "outputs": [
    {
     "name": "stdout",
     "output_type": "stream",
     "text": [
      "2 -> 3 -> 4 -> 5"
     ]
    }
   ],
   "source": [
    "#удаление элемента из односвязного списка\n",
    "\n",
    "class ListNode:\n",
    "    def __init__(self, val=0, next=None):\n",
    "        self.val = val\n",
    "        self.next = next\n",
    "\n",
    "def remove_elements(head: ListNode, val: int) -> ListNode:\n",
    "    dummy = ListNode(0)\n",
    "    dummy.next = head\n",
    "    current = dummy \n",
    "    while current.next:\n",
    "        if current.next.val == val:\n",
    "            current.next = current.next.next\n",
    "        else:\n",
    "            current = current.next\n",
    "    return dummy.next\n",
    "\n",
    "#пример\n",
    "head = ListNode(6)\n",
    "head.next = ListNode(2)\n",
    "head.next.next = ListNode(6)\n",
    "head.next.next.next = ListNode(3)\n",
    "head.next.next.next.next = ListNode(4)\n",
    "head.next.next.next.next.next = ListNode(5)\n",
    "head.next.next.next.next.next.next = ListNode(6)\n",
    "\n",
    "new_head = remove_elements(head, 6)\n",
    "\n",
    "current = new_head\n",
    "while current:\n",
    "    print(current.val, end=\" -> \" if current.next else \"\")\n",
    "    current = current.next"
   ]
  },
  {
   "cell_type": "code",
   "execution_count": 15,
   "id": "bb2e41f2-8c37-4bcf-8acc-2083a66b5000",
   "metadata": {},
   "outputs": [
    {
     "name": "stdout",
     "output_type": "stream",
     "text": [
      "True\n",
      "False\n"
     ]
    }
   ],
   "source": [
    "#проверка является ли одна строка исходной другой\n",
    "\n",
    "def subsequence(a: str, b: str) -> bool:\n",
    "    if not a:\n",
    "        return True\n",
    "    if not b:\n",
    "        return False\n",
    "    \n",
    "    i, j = 0, 0    \n",
    "    while i < len(a) and j < len(b):\n",
    "        if a[i] == b[j]:\n",
    "            i += 1  \n",
    "        j += 1 \n",
    "    return i == len(a)\n",
    "\n",
    "print(subsequence(\"abc\", \"gafdbtc\"))\n",
    "\n",
    "print(subsequence(\"abc\", \"acb\")) "
   ]
  },
  {
   "cell_type": "code",
   "execution_count": 16,
   "id": "9ffab321-d6fb-4c95-888e-dc85e12c8d34",
   "metadata": {},
   "outputs": [
    {
     "name": "stdout",
     "output_type": "stream",
     "text": [
      "True\n",
      "False\n"
     ]
    }
   ],
   "source": [
    "#проверка на палиндром\n",
    "\n",
    "def palindrome(s: str) -> bool:\n",
    "    left = 0\n",
    "    right = len(s) - 1    \n",
    "    while left < right:\n",
    "        if s[left] != s[right]:\n",
    "            return False\n",
    "        left += 1\n",
    "        right -= 1\n",
    "    return True\n",
    "\n",
    "print(palindrome(\"level\"))\n",
    "print(palindrome(\"hello\"))"
   ]
  },
  {
   "cell_type": "code",
   "execution_count": 17,
   "id": "10d5d28f-00b6-4d57-8318-eb6aeeceadae",
   "metadata": {},
   "outputs": [
    {
     "name": "stdout",
     "output_type": "stream",
     "text": [
      "3 -> 4 -> 6 -> 7 -> 8 -> 9 -> 11"
     ]
    }
   ],
   "source": [
    "#слияние двух отсортированных односвязных списков\n",
    "\n",
    "class ListNode:\n",
    "    def __init__(self, val=0, next=None):\n",
    "        self.val = val\n",
    "        self.next = next\n",
    "\n",
    "def merge_two_lists(l1: ListNode, l2: ListNode) -> ListNode:\n",
    "    dummy = ListNode(0)\n",
    "    current = dummy\n",
    "    while l1 and l2:\n",
    "        if l1.val <= l2.val:\n",
    "            current.next = l1\n",
    "            l1 = l1.next\n",
    "        else:\n",
    "            current.next = l2\n",
    "            l2 = l2.next\n",
    "        current = current.next\n",
    "    current.next = l1 if l1 else l2\n",
    "    return dummy.next\n",
    "\n",
    "#пример\n",
    "list1 = ListNode(3)\n",
    "list1.next = ListNode(6)\n",
    "list1.next.next = ListNode(8)\n",
    "\n",
    "list2 = ListNode(4)\n",
    "list2.next = ListNode(7)\n",
    "list2.next.next = ListNode(9)\n",
    "list2.next.next.next = ListNode(11)\n",
    "\n",
    "merged = merge_two_lists(list1, list2)\n",
    "current = merged\n",
    "while current:\n",
    "    print(current.val, end=\" -> \" if current.next else \"\")\n",
    "    current = current.next"
   ]
  },
  {
   "cell_type": "code",
   "execution_count": null,
   "id": "ce6372c6-6f24-4429-8089-4e1bd7d3acbd",
   "metadata": {},
   "outputs": [],
   "source": []
  }
 ],
 "metadata": {
  "kernelspec": {
   "display_name": "Python [conda env:base] *",
   "language": "python",
   "name": "conda-base-py"
  },
  "language_info": {
   "codemirror_mode": {
    "name": "ipython",
    "version": 3
   },
   "file_extension": ".py",
   "mimetype": "text/x-python",
   "name": "python",
   "nbconvert_exporter": "python",
   "pygments_lexer": "ipython3",
   "version": "3.13.5"
  }
 },
 "nbformat": 4,
 "nbformat_minor": 5
}
